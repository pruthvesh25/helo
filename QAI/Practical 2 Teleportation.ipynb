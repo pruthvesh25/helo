{
 "cells": [
  {
   "cell_type": "markdown",
   "id": "b7136408-c20f-46c6-98c7-89f779a9741c",
   "metadata": {},
   "source": [
    "Title : Implement Quantum Teleportation Algorithm"
   ]
  },
  {
   "cell_type": "code",
   "execution_count": 29,
   "id": "ea9f7048-2fae-4622-9c2f-7715a2af1106",
   "metadata": {
    "tags": []
   },
   "outputs": [],
   "source": [
    "# Importing standard Qiskit libraries\n",
    "from qiskit import QuantumCircuit, transpile, QuantumRegister, ClassicalRegister, execute, Aer\n",
    "from qiskit.tools.jupyter import *\n",
    "from qiskit.visualization import *\n",
    "from ibm_quantum_widgets import *\n",
    "\n",
    "# qiskit-ibmq-provider has been deprecated.\n",
    "# Please see the Migration Guides in https://ibm.biz/provider_migration_guide for more detail.\n",
    "from qiskit_ibm_runtime import QiskitRuntimeService, Sampler, Estimator, Session, Options\n",
    "\n",
    "# Loading your IBM Quantum account(s)\n",
    "service = QiskitRuntimeService(channel=\"ibm_quantum\")\n",
    "\n",
    "# Invoke a primitive. For more details see https://qiskit.org/documentation/partners/qiskit_ibm_runtime/tutorials.html\n",
    "# result = Sampler(\"ibmq_qasm_simulator\").run(circuits).result()"
   ]
  },
  {
   "cell_type": "code",
   "execution_count": 30,
   "id": "c9d62667-d0b0-441c-b871-802144bde9c8",
   "metadata": {
    "tags": []
   },
   "outputs": [
    {
     "name": "stdout",
     "output_type": "stream",
     "text": [
      "      ┌─────────────────┐ ░            ░      ┌───┐ ░ ┌─┐                    \n",
      " q_0: ┤ Initialize(0,1) ├─░────────────░───■──┤ H ├─░─┤M├────────────────────\n",
      "      └─────────────────┘ ░ ┌───┐      ░ ┌─┴─┐└───┘ ░ └╥┘┌─┐                 \n",
      " q_1: ────────────────────░─┤ H ├──■───░─┤ X ├──────░──╫─┤M├─────────────────\n",
      "                          ░ └───┘┌─┴─┐ ░ └───┘      ░  ║ └╥┘ ┌───┐  ┌───┐ ┌─┐\n",
      " q_2: ────────────────────░──────┤ X ├─░────────────░──╫──╫──┤ X ├──┤ Z ├─┤M├\n",
      "                          ░      └───┘ ░            ░  ║  ║  └─╥─┘  └─╥─┘ └╥┘\n",
      "                                                       ║  ║    ║   ┌──╨──┐ ║ \n",
      "c0: 1/═════════════════════════════════════════════════╩══╬════╬═══╡ 0x1 ╞═╬═\n",
      "                                                       0  ║ ┌──╨──┐└─────┘ ║ \n",
      "c1: 1/════════════════════════════════════════════════════╩═╡ 0x1 ╞════════╬═\n",
      "                                                          0 └─────┘        ║ \n",
      "c2: 1/═════════════════════════════════════════════════════════════════════╩═\n",
      "                                                                           0 \n",
      "Teleported state: {'1 0 1': 1}\n"
     ]
    }
   ],
   "source": [
    "# Create the quantum circuit with 3 qubits and 3 classical bits\n",
    "q = QuantumRegister(3, 'q')  # Quantum register\n",
    "c0 = ClassicalRegister(1, 'c0')  # Classical register for Alice's qubit\n",
    "c1 = ClassicalRegister(1, 'c1')  # Classical register for Bob's qubit\n",
    "c2 = ClassicalRegister(1, 'c2')  # Classical register for the result\n",
    "circuit = QuantumCircuit(q, c0, c1, c2)\n",
    "\n",
    "# Prepare the initial state to be teleported\n",
    "circuit.initialize([0, 1], q[0])  # Apply X gate to put in state |1>\n",
    "circuit.barrier()\n",
    "\n",
    "# Create an entanglement between Alice's and Bob's qubits\n",
    "circuit.h(q[1])\n",
    "circuit.cx(q[1], q[2])\n",
    "circuit.barrier()\n",
    "\n",
    "# Teleportation process\n",
    "circuit.cx(q[0], q[1])\n",
    "circuit.h(q[0])\n",
    "circuit.barrier()\n",
    "\n",
    "# Measure Alice's qubits and send the measurement results to Bob\n",
    "circuit.measure(q[0], c0[0])\n",
    "circuit.measure(q[1], c1[0])\n",
    "\n",
    "# Apply corrective operations on Bob's qubit based on the measurement results\n",
    "circuit.x(q[2]).c_if(c1, 1)\n",
    "circuit.z(q[2]).c_if(c0, 1)\n",
    "\n",
    "# Measure the teleported qubit\n",
    "circuit.measure(q[2], c2[0])\n",
    "\n",
    "# Visualize the circuit\n",
    "print(circuit)\n",
    "circuit_drawer(circuit, output='mpl')\n",
    "\n",
    "# Simulate the circuit using the QASM simulator\n",
    "simulator = Aer.get_backend('qasm_simulator')\n",
    "job = execute(circuit, simulator, shots=1)\n",
    "result = job.result()\n",
    "teleported_state = result.get_counts(circuit)\n",
    "\n",
    "# Print the teleported state\n",
    "print(\"Teleported state:\", teleported_state)\n"
   ]
  },
  {
   "cell_type": "code",
   "execution_count": null,
   "id": "7c55ba4f-16a2-4547-9f87-b61083099143",
   "metadata": {},
   "outputs": [],
   "source": []
  },
  {
   "cell_type": "code",
   "execution_count": 27,
   "id": "fdf6344f-3129-4fc9-90ea-b0efcf5106f7",
   "metadata": {
    "tags": []
   },
   "outputs": [
    {
     "name": "stdout",
     "output_type": "stream",
     "text": [
      "     ┌───┐┌──────┐┌─┐            \n",
      "q_0: ┤ X ├┤0     ├┤M├────────────\n",
      "     └───┘│      │└╥┘┌─┐         \n",
      "q_1: ─────┤1     ├─╫─┤M├─────────\n",
      "     ┌───┐│      │ ║ └╥┘┌─┐      \n",
      "q_2: ┤ X ├┤2 QFT ├─╫──╫─┤M├──────\n",
      "     └───┘│      │ ║  ║ └╥┘┌─┐   \n",
      "q_3: ─────┤3     ├─╫──╫──╫─┤M├───\n",
      "     ┌───┐│      │ ║  ║  ║ └╥┘┌─┐\n",
      "q_4: ┤ X ├┤4     ├─╫──╫──╫──╫─┤M├\n",
      "     └───┘└──────┘ ║  ║  ║  ║ └╥┘\n",
      "c: 5/══════════════╩══╩══╩══╩══╩═\n",
      "                   0  1  2  3  4 \n",
      "Job Status: job has successfully run\n",
      "\n",
      " QFT Output\n",
      "-------------\n",
      "{'00010': 28, '10000': 26, '10101': 26, '01100': 28, '11001': 30, '01010': 25, '10001': 25, '10011': 26, '01000': 40, '11011': 39, '10110': 37, '11111': 26, '10010': 35, '10100': 27, '11101': 22, '00111': 41, '00000': 35, '01011': 27, '00110': 28, '00011': 35, '00100': 37, '00001': 28, '01101': 27, '11010': 33, '01110': 27, '01001': 29, '00101': 39, '11100': 42, '11110': 36, '11000': 24, '10111': 31, '01111': 41}\n"
     ]
    }
   ],
   "source": [
    "from qiskit import QuantumRegister, ClassicalRegister\n",
    "from qiskit import QuantumCircuit, execute, IBMQ\n",
    "from qiskit.tools.monitor import job_monitor\n",
    "from qiskit.circuit.library import QFT\n",
    "import numpy as np\n",
    "\n",
    "pi = np.pi\n",
    "\n",
    "# provider = IBMQ.get_provider(hub='ibm-q')\n",
    "\n",
    "backend = provider.get_backend('ibmq_qasm_simulator')\n",
    "\n",
    "q = QuantumRegister(5,'q')\n",
    "c = ClassicalRegister(5,'c')\n",
    "\n",
    "circuit = QuantumCircuit(q,c)\n",
    "\n",
    "circuit.x(q[4])\n",
    "circuit.x(q[2])\n",
    "circuit.x(q[0])\n",
    "circuit.append(QFT(num_qubits=5, approximation_degree=0, do_swaps=True, inverse=False, insert_barriers=False), q)\n",
    "circuit.measure(q,c)\n",
    "circuit.draw(output='mpl', filename='qft1.png')\n",
    "print(circuit)\n",
    "\n",
    "job = execute(circuit, backend, shots=1000)\n",
    "\n",
    "job_monitor(job)\n",
    "\n",
    "counts = job.result().get_counts()\n",
    "\n",
    "print(\"\\n QFT Output\")\n",
    "print(\"-------------\")\n",
    "print(counts)\n"
   ]
  },
  {
   "cell_type": "code",
   "execution_count": null,
   "id": "138c0b3e-4601-4195-b8f2-f6a291261bb5",
   "metadata": {},
   "outputs": [],
   "source": []
  },
  {
   "cell_type": "code",
   "execution_count": 28,
   "id": "0b1c8805-8c6f-4ef5-8b66-9d5752f1880e",
   "metadata": {
    "tags": []
   },
   "outputs": [
    {
     "name": "stdout",
     "output_type": "stream",
     "text": [
      "     ┌───┐┌──────┐┌─┐            \n",
      "q_0: ┤ X ├┤0     ├┤M├────────────\n",
      "     └───┘│      │└╥┘┌─┐         \n",
      "q_1: ─────┤1     ├─╫─┤M├─────────\n",
      "     ┌───┐│      │ ║ └╥┘┌─┐      \n",
      "q_2: ┤ X ├┤2 qft ├─╫──╫─┤M├──────\n",
      "     └───┘│      │ ║  ║ └╥┘┌─┐   \n",
      "q_3: ─────┤3     ├─╫──╫──╫─┤M├───\n",
      "     ┌───┐│      │ ║  ║  ║ └╥┘┌─┐\n",
      "q_4: ┤ X ├┤4     ├─╫──╫──╫──╫─┤M├\n",
      "     └───┘└──────┘ ║  ║  ║  ║ └╥┘\n",
      "c: 5/══════════════╩══╩══╩══╩══╩═\n",
      "                   0  1  2  3  4 \n",
      "Job Status: job has successfully run\n",
      "\n",
      " QFT Output\n",
      "-------------\n",
      "{'00110': 24, '00111': 34, '11000': 20, '10111': 29, '00010': 32, '10100': 33, '11101': 38, '01100': 36, '01110': 31, '01111': 27, '11001': 47, '11010': 29, '11110': 35, '11100': 23, '10101': 35, '10000': 37, '11111': 19, '10110': 31, '10010': 25, '11011': 33, '01000': 22, '00100': 43, '00011': 38, '01011': 30, '00000': 33, '01001': 27, '00101': 32, '10001': 27, '01010': 37, '01101': 26, '00001': 41, '10011': 26}\n"
     ]
    },
    {
     "name": "stdin",
     "output_type": "stream",
     "text": [
      " \n"
     ]
    },
    {
     "name": "stdout",
     "output_type": "stream",
     "text": [
      "     ┌───┐┌──────┐┌─┐            \n",
      "q_0: ┤ X ├┤0     ├┤M├────────────\n",
      "     └───┘│      │└╥┘┌─┐         \n",
      "q_1: ─────┤1     ├─╫─┤M├─────────\n",
      "     ┌───┐│      │ ║ └╥┘┌─┐      \n",
      "q_2: ┤ X ├┤2 qft ├─╫──╫─┤M├──────\n",
      "     └───┘│      │ ║  ║ └╥┘┌─┐   \n",
      "q_3: ─────┤3     ├─╫──╫──╫─┤M├───\n",
      "     ┌───┐│      │ ║  ║  ║ └╥┘┌─┐\n",
      "q_4: ┤ X ├┤4     ├─╫──╫──╫──╫─┤M├\n",
      "     └───┘└──────┘ ║  ║  ║  ║ └╥┘\n",
      "c: 5/══════════════╩══╩══╩══╩══╩═\n",
      "                   0  1  2  3  4 \n",
      "Job Status: job has successfully run\n",
      "\n",
      " QFT with inverse QFT Output\n",
      "------------------------------\n",
      "{'00010': 24, '00011': 25, '00100': 30, '11010': 36, '01110': 27, '11000': 30, '10111': 31, '01100': 31, '10000': 35, '10101': 22, '00110': 48, '10011': 27, '01000': 30, '11011': 38, '01101': 29, '00001': 31, '11111': 23, '10010': 39, '10110': 39, '11100': 42, '11110': 33, '11001': 35, '00111': 35, '01011': 31, '00000': 31, '01111': 27, '01010': 17, '10001': 35, '01001': 24, '00101': 25, '10100': 41, '11101': 29}\n"
     ]
    },
    {
     "name": "stdin",
     "output_type": "stream",
     "text": [
      " \n"
     ]
    },
    {
     "data": {
      "text/plain": [
       "''"
      ]
     },
     "execution_count": 28,
     "metadata": {},
     "output_type": "execute_result"
    }
   ],
   "source": [
    "from qiskit import QuantumRegister, ClassicalRegister\n",
    "from qiskit import QuantumCircuit, execute,IBMQ\n",
    "from qiskit.tools.monitor import job_monitor\n",
    "from qiskit.circuit.library import QFT\n",
    "import numpy as np\n",
    "\n",
    "pi = np.pi\n",
    "\n",
    "\n",
    "provider = IBMQ.get_provider(hub='ibm-q')\n",
    "\n",
    "backend = provider.get_backend('ibmq_qasm_simulator')\n",
    "\n",
    "q = QuantumRegister(5,'q')\n",
    "c = ClassicalRegister(5,'c')\n",
    "\n",
    "circuit = QuantumCircuit(q,c)\n",
    "\n",
    "circuit.x(q[4])\n",
    "circuit.x(q[2])\n",
    "circuit.x(q[0])\n",
    "circuit.append(QFT(num_qubits=5, approximation_degree=0, do_swaps=True, inverse=False, insert_barriers=False, name='qft'), q)\n",
    "circuit.measure(q,c)\n",
    "circuit.draw(output='mpl', filename='qft1.png')\n",
    "print(circuit)\n",
    "\n",
    "job = execute(circuit, backend, shots=1000)\n",
    "\n",
    "job_monitor(job)\n",
    "\n",
    "counts = job.result().get_counts()\n",
    "\n",
    "print(\"\\n QFT Output\")\n",
    "print(\"-------------\")\n",
    "print(counts)\n",
    "input()\n",
    "\n",
    "q = QuantumRegister(5,'q')\n",
    "c = ClassicalRegister(5,'c')\n",
    "\n",
    "circuit = QuantumCircuit(q,c)\n",
    "\n",
    "circuit.x(q[4])\n",
    "circuit.x(q[2])\n",
    "circuit.x(q[0])\n",
    "circuit.append(QFT(num_qubits=5, approximation_degree=0, do_swaps=True, inverse=False, insert_barriers=False, name='qft'), q)\n",
    "circuit.measure(q,c)\n",
    "circuit.draw(output='mpl',filename='qft2.png')\n",
    "\n",
    "print(circuit)\n",
    "\n",
    "job = execute(circuit, backend, shots=1000)\n",
    "\n",
    "job_monitor(job)\n",
    "\n",
    "counts = job.result().get_counts()\n",
    "\n",
    "print(\"\\n QFT with inverse QFT Output\")\n",
    "print(\"------------------------------\")\n",
    "print(counts)\n",
    "input()"
   ]
  },
  {
   "cell_type": "code",
   "execution_count": null,
   "id": "22e460e8-6266-4fa8-adbf-b22ec7e684dd",
   "metadata": {},
   "outputs": [],
   "source": []
  }
 ],
 "metadata": {
  "kernelspec": {
   "display_name": "Python 3 (ipykernel)",
   "language": "python",
   "name": "python3"
  },
  "language_info": {
   "codemirror_mode": {
    "name": "ipython",
    "version": 3
   },
   "file_extension": ".py",
   "mimetype": "text/x-python",
   "name": "python",
   "nbconvert_exporter": "python",
   "pygments_lexer": "ipython3",
   "version": "3.10.8"
  },
  "widgets": {
   "application/vnd.jupyter.widget-state+json": {
    "state": {
     "00bf49c07a7a449882e0c347eb688460": {
      "model_module": "@jupyter-widgets/controls",
      "model_module_version": "2.0.0",
      "model_name": "HTMLModel",
      "state": {
       "layout": "IPY_MODEL_99289b2322184b9197fc462a713bf791",
       "style": "IPY_MODEL_98bc3a2e4bc2475295b5257e6e679021",
       "value": "job has successfully run"
      }
     },
     "0253c26bc63345ddb3d0c48bd8896bc2": {
      "model_module": "@jupyter-widgets/controls",
      "model_module_version": "2.0.0",
      "model_name": "HTMLStyleModel",
      "state": {
       "description_width": "",
       "font_size": null,
       "text_color": null
      }
     },
     "041559a3d382474886725fad546e78a0": {
      "model_module": "@jupyter-widgets/controls",
      "model_module_version": "2.0.0",
      "model_name": "HTMLStyleModel",
      "state": {
       "description_width": "",
       "font_size": null,
       "text_color": null
      }
     },
     "041755b7d90145c186fba73f8a2ba1f3": {
      "model_module": "@jupyter-widgets/controls",
      "model_module_version": "2.0.0",
      "model_name": "HBoxModel",
      "state": {
       "children": [
        "IPY_MODEL_b269e0c000594f2595246596f9f5791a",
        "IPY_MODEL_da58ed6799204074884e9f1ac9f5bd27",
        "IPY_MODEL_1371ac0b078a4e1e8f19ec3c0e90a0bf",
        "IPY_MODEL_3612c02646c34f539d478757460fc7e5",
        "IPY_MODEL_dd50ca90dbd04a30b910887d21e04a48",
        "IPY_MODEL_8d20c78b2959410ab5f3e84bd9cc7805"
       ],
       "layout": "IPY_MODEL_8ee6b0ac15aa4e48bfffd3ab16dc492d"
      }
     },
     "0838b0d4e7ad45d78427702335da6e58": {
      "model_module": "@jupyter-widgets/controls",
      "model_module_version": "2.0.0",
      "model_name": "ButtonStyleModel",
      "state": {
       "font_family": null,
       "font_size": null,
       "font_style": null,
       "font_variant": null,
       "font_weight": null,
       "text_color": null,
       "text_decoration": null
      }
     },
     "0c961a1b502c481cbd921f92b398215b": {
      "model_module": "@jupyter-widgets/base",
      "model_module_version": "2.0.0",
      "model_name": "LayoutModel",
      "state": {
       "width": "145px"
      }
     },
     "107ed8ae285a4333be39ddf893e2a694": {
      "model_module": "@jupyter-widgets/controls",
      "model_module_version": "2.0.0",
      "model_name": "HTMLStyleModel",
      "state": {
       "description_width": "",
       "font_size": null,
       "text_color": null
      }
     },
     "11926a2015904ef39adf523b9bf0728d": {
      "model_module": "@jupyter-widgets/controls",
      "model_module_version": "2.0.0",
      "model_name": "ButtonModel",
      "state": {
       "icon": "close",
       "layout": "IPY_MODEL_e71e1bdee7de4fd0bb334b4149455d8c",
       "style": "IPY_MODEL_7e49c16b72914f66bbfed43fc2afae1b",
       "tooltip": null
      }
     },
     "1371ac0b078a4e1e8f19ec3c0e90a0bf": {
      "model_module": "@jupyter-widgets/controls",
      "model_module_version": "2.0.0",
      "model_name": "HTMLModel",
      "state": {
       "layout": "IPY_MODEL_ef53b0c15cf041eb8525a4a50160133c",
       "style": "IPY_MODEL_79597f34517d449ebf8eb5448bb3716c",
       "value": "ibmq_qasm_simulator"
      }
     },
     "153b9e47a9f948b58d003e0dd4d34991": {
      "model_module": "@jupyter-widgets/base",
      "model_module_version": "2.0.0",
      "model_name": "LayoutModel",
      "state": {}
     },
     "1618052dd55a41c5a402081f3100f6ed": {
      "model_module": "@jupyter-widgets/controls",
      "model_module_version": "2.0.0",
      "model_name": "HTMLModel",
      "state": {
       "layout": "IPY_MODEL_4bbc48db737a4ce0b81896bcd272d47a",
       "style": "IPY_MODEL_aa77b79c293a455da88d3bdc3292897f",
       "value": "<font style='color:#34BC6E'>DONE</font>"
      }
     },
     "168c9ba759504310a34cd9a75bf7b505": {
      "model_module": "@jupyter-widgets/controls",
      "model_module_version": "2.0.0",
      "model_name": "HTMLStyleModel",
      "state": {
       "description_width": "",
       "font_size": null,
       "text_color": null
      }
     },
     "16e688a57bae41cea529153a9197f401": {
      "model_module": "@jupyter-widgets/controls",
      "model_module_version": "2.0.0",
      "model_name": "HTMLModel",
      "state": {
       "layout": "IPY_MODEL_ee905e78ebd94e5bab4b16ba804265bc",
       "style": "IPY_MODEL_bb377584897f490cbb0fd9f47bcf9ab8",
       "value": "<h5>Message</h5>"
      }
     },
     "173fe426fa064308b9c32a80e35ee484": {
      "model_module": "@jupyter-widgets/controls",
      "model_module_version": "2.0.0",
      "model_name": "GridBoxModel",
      "state": {
       "children": [
        "IPY_MODEL_e4a4cb9974a94b71acbe26ec0ac4c53e"
       ],
       "layout": "IPY_MODEL_90ac8575737345f78cadd0755861ccb3"
      }
     },
     "19ab2f7114274511b81ec381df209d66": {
      "model_module": "@jupyter-widgets/controls",
      "model_module_version": "2.0.0",
      "model_name": "HTMLStyleModel",
      "state": {
       "description_width": "",
       "font_size": null,
       "text_color": null
      }
     },
     "1ba2324e44f44e18be0a46bd0db89a13": {
      "model_module": "@jupyter-widgets/controls",
      "model_module_version": "2.0.0",
      "model_name": "HTMLStyleModel",
      "state": {
       "description_width": "",
       "font_size": null,
       "text_color": null
      }
     },
     "1d494c645e0045b49b8831eb8743527c": {
      "model_module": "@jupyter-widgets/base",
      "model_module_version": "2.0.0",
      "model_name": "LayoutModel",
      "state": {
       "width": "95px"
      }
     },
     "1ecb1bd2306d4420ad49ac50b4d6988b": {
      "model_module": "@jupyter-widgets/controls",
      "model_module_version": "2.0.0",
      "model_name": "HTMLStyleModel",
      "state": {
       "description_width": "",
       "font_size": null,
       "text_color": null
      }
     },
     "21dd150a069d4d368aa1030cdf7781ac": {
      "model_module": "@jupyter-widgets/base",
      "model_module_version": "2.0.0",
      "model_name": "LayoutModel",
      "state": {
       "width": "95px"
      }
     },
     "23296c89c6784d3bbdbe26e331f1e5ef": {
      "model_module": "@jupyter-widgets/base",
      "model_module_version": "2.0.0",
      "model_name": "LayoutModel",
      "state": {
       "width": "190px"
      }
     },
     "233ed809342544ba8e6c2e2010d3e1b6": {
      "model_module": "@jupyter-widgets/base",
      "model_module_version": "2.0.0",
      "model_name": "LayoutModel",
      "state": {}
     },
     "243a05e09aa54c02b9cc750c448de4a5": {
      "model_module": "@jupyter-widgets/base",
      "model_module_version": "2.0.0",
      "model_name": "LayoutModel",
      "state": {
       "width": "190px"
      }
     },
     "25f020dfe5be45e292bc97e8f46e95d6": {
      "model_module": "@jupyter-widgets/base",
      "model_module_version": "2.0.0",
      "model_name": "LayoutModel",
      "state": {
       "width": "190px"
      }
     },
     "2c257d933d7b42cf9ea8ceeef84d336c": {
      "model_module": "@jupyter-widgets/controls",
      "model_module_version": "2.0.0",
      "model_name": "HTMLStyleModel",
      "state": {
       "description_width": "",
       "font_size": null,
       "text_color": null
      }
     },
     "2ca03c0ed20f4bf58ecc0652447e4dd7": {
      "model_module": "@jupyter-widgets/controls",
      "model_module_version": "2.0.0",
      "model_name": "HTMLModel",
      "state": {
       "layout": "IPY_MODEL_25f020dfe5be45e292bc97e8f46e95d6",
       "style": "IPY_MODEL_d5346fb7abc848a5bee1bd006725e49d",
       "value": "ckki1lkmjg3o1418glrg"
      }
     },
     "2d0139e5bb5c427894ede339812b1136": {
      "model_module": "@jupyter-widgets/base",
      "model_module_version": "2.0.0",
      "model_name": "LayoutModel",
      "state": {
       "width": "70px"
      }
     },
     "2e4aaff0218141d4bbcee5fa87c307f2": {
      "model_module": "@jupyter-widgets/controls",
      "model_module_version": "2.0.0",
      "model_name": "HTMLModel",
      "state": {
       "layout": "IPY_MODEL_ddaa15d08e5946259773ffb62bd847fe",
       "style": "IPY_MODEL_582a48d237974f3794ab6a7248786427",
       "value": "ibmq_qasm_simulator"
      }
     },
     "303626bd7a6b4600a742ad33d5b42ed7": {
      "model_module": "@jupyter-widgets/controls",
      "model_module_version": "2.0.0",
      "model_name": "HTMLStyleModel",
      "state": {
       "description_width": "",
       "font_size": null,
       "text_color": null
      }
     },
     "3053166cb1924f6b9d35a4513cf95ce5": {
      "model_module": "@jupyter-widgets/controls",
      "model_module_version": "2.0.0",
      "model_name": "ButtonModel",
      "state": {
       "icon": "close",
       "layout": "IPY_MODEL_d5fc81525c694c66b4259cfaf66e5deb",
       "style": "IPY_MODEL_e4c1e3d745ad4256b0d309e19e073756",
       "tooltip": null
      }
     },
     "315f3f291a0e42ab9060a4fd38bfbb4b": {
      "model_module": "@jupyter-widgets/base",
      "model_module_version": "2.0.0",
      "model_name": "LayoutModel",
      "state": {
       "width": "70px"
      }
     },
     "31bcf05354574a5b845511002b1c45b4": {
      "model_module": "@jupyter-widgets/controls",
      "model_module_version": "2.0.0",
      "model_name": "HTMLModel",
      "state": {
       "layout": "IPY_MODEL_ea5d7cec809642d7bdb11c64b3e225a6",
       "style": "IPY_MODEL_5b1c06a3179d4dc5b089be2c67084441",
       "value": "<font style='color:#34BC6E'>DONE</font>"
      }
     },
     "32a804cce4294e749c209344e424c79b": {
      "model_module": "@jupyter-widgets/base",
      "model_module_version": "2.0.0",
      "model_name": "LayoutModel",
      "state": {
       "width": "70px"
      }
     },
     "3612c02646c34f539d478757460fc7e5": {
      "model_module": "@jupyter-widgets/controls",
      "model_module_version": "2.0.0",
      "model_name": "HTMLModel",
      "state": {
       "layout": "IPY_MODEL_1d494c645e0045b49b8831eb8743527c",
       "style": "IPY_MODEL_2c257d933d7b42cf9ea8ceeef84d336c",
       "value": "<font style='color:#34BC6E'>DONE</font>"
      }
     },
     "36a741c922b24e219900b0cfb5d0d039": {
      "model_module": "@jupyter-widgets/base",
      "model_module_version": "2.0.0",
      "model_name": "LayoutModel",
      "state": {}
     },
     "3924002b2af1409e8086eb52be96353b": {
      "model_module": "@jupyter-widgets/controls",
      "model_module_version": "2.0.0",
      "model_name": "HTMLModel",
      "state": {
       "layout": "IPY_MODEL_e37fea6e56774c20a3913374f63c6abd",
       "style": "IPY_MODEL_303626bd7a6b4600a742ad33d5b42ed7",
       "value": "ckkhsp2een13a803tqkg"
      }
     },
     "3a9504ebc62241388dfff94602321092": {
      "model_module": "@jupyter-widgets/controls",
      "model_module_version": "2.0.0",
      "model_name": "HTMLStyleModel",
      "state": {
       "description_width": "",
       "font_size": null,
       "text_color": null
      }
     },
     "3bd43808421e4cb5b77a81adca509ffd": {
      "model_module": "@jupyter-widgets/controls",
      "model_module_version": "2.0.0",
      "model_name": "HTMLStyleModel",
      "state": {
       "description_width": "",
       "font_size": null,
       "text_color": null
      }
     },
     "3ce453edd7fa482aa6419238c8efbf86": {
      "model_module": "@jupyter-widgets/controls",
      "model_module_version": "2.0.0",
      "model_name": "HTMLStyleModel",
      "state": {
       "description_width": "",
       "font_size": null,
       "text_color": null
      }
     },
     "425f86891be44c858a88293a05c86f95": {
      "model_module": "@jupyter-widgets/controls",
      "model_module_version": "2.0.0",
      "model_name": "HTMLModel",
      "state": {
       "layout": "IPY_MODEL_b2c0122963aa4998acb75db650619f0d",
       "style": "IPY_MODEL_bda05dc2a96a42bcb4aeb6841f5e3d9b",
       "value": "ibmq_qasm_simulator"
      }
     },
     "441ecf5bae6f4967bd351630a25167bd": {
      "model_module": "@jupyter-widgets/controls",
      "model_module_version": "2.0.0",
      "model_name": "ButtonModel",
      "state": {
       "icon": "close",
       "layout": "IPY_MODEL_6820641ce5924bee9d2d70162763ea47",
       "style": "IPY_MODEL_5d76fb0d338d4c3ea888d294efb1ad15",
       "tooltip": null
      }
     },
     "44b980edbc374b209804d7fb48f9234a": {
      "model_module": "@jupyter-widgets/base",
      "model_module_version": "2.0.0",
      "model_name": "LayoutModel",
      "state": {
       "margin": "0px 0px 10px 0px"
      }
     },
     "45279f4c16844407843fbf603e2fa3d8": {
      "model_module": "@jupyter-widgets/controls",
      "model_module_version": "2.0.0",
      "model_name": "HTMLModel",
      "state": {
       "layout": "IPY_MODEL_ff6390d913114c618deafce10ee22d4c",
       "style": "IPY_MODEL_49301c68ca644a66974cbcdf9dd4b632",
       "value": "DONE"
      }
     },
     "45567f247f5642338d16872b9228897b": {
      "model_module": "@jupyter-widgets/base",
      "model_module_version": "2.0.0",
      "model_name": "LayoutModel",
      "state": {
       "width": "145px"
      }
     },
     "49301c68ca644a66974cbcdf9dd4b632": {
      "model_module": "@jupyter-widgets/controls",
      "model_module_version": "2.0.0",
      "model_name": "HTMLStyleModel",
      "state": {
       "description_width": "",
       "font_size": null,
       "text_color": null
      }
     },
     "49bcdae2f9ad4fdba7d6f908d31a58a8": {
      "model_module": "@jupyter-widgets/controls",
      "model_module_version": "2.0.0",
      "model_name": "HTMLModel",
      "state": {
       "layout": "IPY_MODEL_54911a9506a746819340f0edb879c476",
       "style": "IPY_MODEL_1ba2324e44f44e18be0a46bd0db89a13",
       "value": "ibmq_qasm_simulator"
      }
     },
     "4a0dceaa4e514414883c023291f23826": {
      "model_module": "@jupyter-widgets/controls",
      "model_module_version": "2.0.0",
      "model_name": "HTMLStyleModel",
      "state": {
       "description_width": "",
       "font_size": null,
       "text_color": null
      }
     },
     "4ab694e50282454187e7e1c927e432c2": {
      "model_module": "@jupyter-widgets/base",
      "model_module_version": "2.0.0",
      "model_name": "LayoutModel",
      "state": {
       "width": "70px"
      }
     },
     "4bbc48db737a4ce0b81896bcd272d47a": {
      "model_module": "@jupyter-widgets/base",
      "model_module_version": "2.0.0",
      "model_name": "LayoutModel",
      "state": {
       "width": "95px"
      }
     },
     "4ccf3f077a90411888089421d7f9f354": {
      "model_module": "@jupyter-widgets/controls",
      "model_module_version": "2.0.0",
      "model_name": "HTMLStyleModel",
      "state": {
       "description_width": "",
       "font_size": null,
       "text_color": null
      }
     },
     "52a3c6c2dbbf47cbabfe541a66f2de40": {
      "model_module": "@jupyter-widgets/controls",
      "model_module_version": "2.0.0",
      "model_name": "HTMLModel",
      "state": {
       "layout": "IPY_MODEL_7b3ef6984acf4eb8a243566320164f0a",
       "style": "IPY_MODEL_0253c26bc63345ddb3d0c48bd8896bc2",
       "value": "ibmq_qasm_simulator"
      }
     },
     "54911a9506a746819340f0edb879c476": {
      "model_module": "@jupyter-widgets/base",
      "model_module_version": "2.0.0",
      "model_name": "LayoutModel",
      "state": {
       "width": "145px"
      }
     },
     "54ac2be18da845f49c1024e786ead8cf": {
      "model_module": "@jupyter-widgets/base",
      "model_module_version": "2.0.0",
      "model_name": "LayoutModel",
      "state": {
       "width": "70px"
      }
     },
     "582a48d237974f3794ab6a7248786427": {
      "model_module": "@jupyter-widgets/controls",
      "model_module_version": "2.0.0",
      "model_name": "HTMLStyleModel",
      "state": {
       "description_width": "",
       "font_size": null,
       "text_color": null
      }
     },
     "5b1c06a3179d4dc5b089be2c67084441": {
      "model_module": "@jupyter-widgets/controls",
      "model_module_version": "2.0.0",
      "model_name": "HTMLStyleModel",
      "state": {
       "description_width": "",
       "font_size": null,
       "text_color": null
      }
     },
     "5d76fb0d338d4c3ea888d294efb1ad15": {
      "model_module": "@jupyter-widgets/controls",
      "model_module_version": "2.0.0",
      "model_name": "ButtonStyleModel",
      "state": {
       "button_color": "white",
       "font_family": null,
       "font_size": null,
       "font_style": null,
       "font_variant": null,
       "font_weight": null,
       "text_color": null,
       "text_decoration": null
      }
     },
     "5e239ed74f0e450cacb36136b0e5e8f6": {
      "model_module": "@jupyter-widgets/base",
      "model_module_version": "2.0.0",
      "model_name": "LayoutModel",
      "state": {
       "width": "70px"
      }
     },
     "66c8920d38ab40c091442540a5981f66": {
      "model_module": "@jupyter-widgets/base",
      "model_module_version": "2.0.0",
      "model_name": "LayoutModel",
      "state": {
       "max_width": "700px",
       "min_width": "700px"
      }
     },
     "6820641ce5924bee9d2d70162763ea47": {
      "model_module": "@jupyter-widgets/base",
      "model_module_version": "2.0.0",
      "model_name": "LayoutModel",
      "state": {
       "margin": "0px 5px 0px 0px",
       "width": "32px"
      }
     },
     "6a3de5e360b6494ab3a8faf4c3801651": {
      "model_module": "@jupyter-widgets/base",
      "model_module_version": "2.0.0",
      "model_name": "LayoutModel",
      "state": {}
     },
     "6bbbe08115de420f826b7edf8bfc410a": {
      "model_module": "@jupyter-widgets/controls",
      "model_module_version": "2.0.0",
      "model_name": "HTMLStyleModel",
      "state": {
       "description_width": "",
       "font_size": null,
       "text_color": null
      }
     },
     "709dbe9537ed4f619bd17c491b7347b6": {
      "model_module": "@jupyter-widgets/controls",
      "model_module_version": "2.0.0",
      "model_name": "HBoxModel",
      "state": {
       "children": [
        "IPY_MODEL_a66f82ed4f5a487da6bb9a00336bd4c8",
        "IPY_MODEL_8488be8fc60d4bb78a6db966aa93db0b",
        "IPY_MODEL_8eeb5713b590417c9b24c13fe4af77cd",
        "IPY_MODEL_d9071457124f44c8a780fa39625bd4b9",
        "IPY_MODEL_16e688a57bae41cea529153a9197f401"
       ],
       "layout": "IPY_MODEL_bc149528472542aea93a289f23dbbc33"
      }
     },
     "7117db55718947179002aef3581b73d8": {
      "model_module": "@jupyter-widgets/base",
      "model_module_version": "2.0.0",
      "model_name": "LayoutModel",
      "state": {
       "width": "70px"
      }
     },
     "79597f34517d449ebf8eb5448bb3716c": {
      "model_module": "@jupyter-widgets/controls",
      "model_module_version": "2.0.0",
      "model_name": "HTMLStyleModel",
      "state": {
       "description_width": "",
       "font_size": null,
       "text_color": null
      }
     },
     "7b3ef6984acf4eb8a243566320164f0a": {
      "model_module": "@jupyter-widgets/base",
      "model_module_version": "2.0.0",
      "model_name": "LayoutModel",
      "state": {
       "width": "145px"
      }
     },
     "7e49c16b72914f66bbfed43fc2afae1b": {
      "model_module": "@jupyter-widgets/controls",
      "model_module_version": "2.0.0",
      "model_name": "ButtonStyleModel",
      "state": {
       "button_color": "white",
       "font_family": null,
       "font_size": null,
       "font_style": null,
       "font_variant": null,
       "font_weight": null,
       "text_color": null,
       "text_decoration": null
      }
     },
     "81633c3e00894be3a008c89e4542ce35": {
      "model_module": "@jupyter-widgets/controls",
      "model_module_version": "2.0.0",
      "model_name": "HTMLStyleModel",
      "state": {
       "description_width": "",
       "font_size": null,
       "text_color": null
      }
     },
     "8488be8fc60d4bb78a6db966aa93db0b": {
      "model_module": "@jupyter-widgets/controls",
      "model_module_version": "2.0.0",
      "model_name": "HTMLModel",
      "state": {
       "layout": "IPY_MODEL_45567f247f5642338d16872b9228897b",
       "style": "IPY_MODEL_107ed8ae285a4333be39ddf893e2a694",
       "value": "<h5>Backend</h5>"
      }
     },
     "8557605b1989466db21fc7c525a3b477": {
      "model_module": "@jupyter-widgets/controls",
      "model_module_version": "2.0.0",
      "model_name": "HTMLModel",
      "state": {
       "layout": "IPY_MODEL_b913e5b92f4c4c1fba53009a63b512a8",
       "style": "IPY_MODEL_e61a11290c4449e699e5b65d288285e3",
       "value": "DONE"
      }
     },
     "8684be1371784c9ab7d27f533591de9f": {
      "model_module": "@jupyter-widgets/controls",
      "model_module_version": "2.0.0",
      "model_name": "HTMLStyleModel",
      "state": {
       "description_width": "",
       "font_size": null,
       "text_color": null
      }
     },
     "89a4bc54aeff4b1a816032fb7965a328": {
      "model_module": "@jupyter-widgets/controls",
      "model_module_version": "2.0.0",
      "model_name": "ButtonModel",
      "state": {
       "icon": "close",
       "layout": "IPY_MODEL_eb72f61b1a9a4b45828dfd8c311af218",
       "style": "IPY_MODEL_b89c1c3ec9204df1b4b082380997a7ff",
       "tooltip": null
      }
     },
     "8d20c78b2959410ab5f3e84bd9cc7805": {
      "model_module": "@jupyter-widgets/controls",
      "model_module_version": "2.0.0",
      "model_name": "HTMLModel",
      "state": {
       "layout": "IPY_MODEL_6a3de5e360b6494ab3a8faf4c3801651",
       "style": "IPY_MODEL_8684be1371784c9ab7d27f533591de9f",
       "value": "job has successfully run"
      }
     },
     "8ee6b0ac15aa4e48bfffd3ab16dc492d": {
      "model_module": "@jupyter-widgets/base",
      "model_module_version": "2.0.0",
      "model_name": "LayoutModel",
      "state": {
       "max_width": "700px",
       "min_width": "700px"
      }
     },
     "8ee747280b8f4054aa7d644075ca1436": {
      "model_module": "@jupyter-widgets/base",
      "model_module_version": "2.0.0",
      "model_name": "LayoutModel",
      "state": {
       "width": "190px"
      }
     },
     "8eeb5713b590417c9b24c13fe4af77cd": {
      "model_module": "@jupyter-widgets/controls",
      "model_module_version": "2.0.0",
      "model_name": "HTMLModel",
      "state": {
       "layout": "IPY_MODEL_bfed3e957d794e99b0ad804019f2c431",
       "style": "IPY_MODEL_9d7afbfb3afa4df89cc8c985a39d9ddb",
       "value": "<h5>Status</h5>"
      }
     },
     "90ac8575737345f78cadd0755861ccb3": {
      "model_module": "@jupyter-widgets/base",
      "model_module_version": "2.0.0",
      "model_name": "LayoutModel",
      "state": {
       "grid_template_areas": "\n                                       \". . . . right \"\n                                        ",
       "grid_template_columns": "20% 20% 20% 20% 20%",
       "width": "100%"
      }
     },
     "91a929e757ba4fab9b96f54db25208e8": {
      "model_module": "@jupyter-widgets/controls",
      "model_module_version": "2.0.0",
      "model_name": "HTMLModel",
      "state": {
       "layout": "IPY_MODEL_36a741c922b24e219900b0cfb5d0d039",
       "style": "IPY_MODEL_19ab2f7114274511b81ec381df209d66",
       "value": "job has successfully run"
      }
     },
     "926d7293b1ec463cb9b295df8d2f545a": {
      "model_module": "@jupyter-widgets/controls",
      "model_module_version": "2.0.0",
      "model_name": "HTMLModel",
      "state": {
       "layout": "IPY_MODEL_44b980edbc374b209804d7fb48f9234a",
       "style": "IPY_MODEL_4a0dceaa4e514414883c023291f23826",
       "value": "<p style='font-family: IBM Plex Sans, Arial, Helvetica, sans-serif; font-size: 20px; font-weight: medium;'>Circuit Properties</p>"
      }
     },
     "9270991f120545cc8f89edf711be8728": {
      "model_module": "@jupyter-widgets/controls",
      "model_module_version": "2.0.0",
      "model_name": "HBoxModel",
      "state": {
       "children": [
        "IPY_MODEL_3053166cb1924f6b9d35a4513cf95ce5",
        "IPY_MODEL_a7c1367eb0a34b1f86d208b432d85c4f",
        "IPY_MODEL_b8729a19649c4436ac0997faf652a15d",
        "IPY_MODEL_e966231061204a1e873cc1b39faccda0",
        "IPY_MODEL_c77f032bc3804bf781b672318409782f",
        "IPY_MODEL_00bf49c07a7a449882e0c347eb688460"
       ],
       "layout": "IPY_MODEL_e1238bcc2b7a41fdb6d786be9e33b7c9"
      }
     },
     "946e0c39c12e4f49ab55e7cbc789f89b": {
      "model_module": "@jupyter-widgets/controls",
      "model_module_version": "2.0.0",
      "model_name": "HTMLStyleModel",
      "state": {
       "description_width": "",
       "font_size": null,
       "text_color": null
      }
     },
     "952463e9c83e4c5b972572fce7f25aef": {
      "model_module": "@jupyter-widgets/controls",
      "model_module_version": "2.0.0",
      "model_name": "HTMLModel",
      "state": {
       "layout": "IPY_MODEL_b157a92fc9b34a42b49e3531399d0b4c",
       "style": "IPY_MODEL_6bbbe08115de420f826b7edf8bfc410a",
       "value": "job has successfully run"
      }
     },
     "96c478b2ee9b4af2a9a54691bac637f9": {
      "model_module": "@jupyter-widgets/controls",
      "model_module_version": "2.0.0",
      "model_name": "HTMLModel",
      "state": {
       "layout": "IPY_MODEL_233ed809342544ba8e6c2e2010d3e1b6",
       "style": "IPY_MODEL_e935e5cd505b4aecb26b8166d38a0c9a",
       "value": "<p style=white-space:nowrap;>job has successfully run</p>"
      }
     },
     "98b1af4d3db64e6d8bfc8d1ed9152a2d": {
      "model_module": "@jupyter-widgets/controls",
      "model_module_version": "2.0.0",
      "model_name": "ButtonStyleModel",
      "state": {
       "button_color": "white",
       "font_family": null,
       "font_size": null,
       "font_style": null,
       "font_variant": null,
       "font_weight": null,
       "text_color": null,
       "text_decoration": null
      }
     },
     "98bc3a2e4bc2475295b5257e6e679021": {
      "model_module": "@jupyter-widgets/controls",
      "model_module_version": "2.0.0",
      "model_name": "HTMLStyleModel",
      "state": {
       "description_width": "",
       "font_size": null,
       "text_color": null
      }
     },
     "99289b2322184b9197fc462a713bf791": {
      "model_module": "@jupyter-widgets/base",
      "model_module_version": "2.0.0",
      "model_name": "LayoutModel",
      "state": {}
     },
     "9bf23f38499b43f99e1bff120e154a6d": {
      "model_module": "@jupyter-widgets/controls",
      "model_module_version": "2.0.0",
      "model_name": "HBoxModel",
      "state": {
       "children": [
        "IPY_MODEL_11926a2015904ef39adf523b9bf0728d",
        "IPY_MODEL_2ca03c0ed20f4bf58ecc0652447e4dd7",
        "IPY_MODEL_2e4aaff0218141d4bbcee5fa87c307f2",
        "IPY_MODEL_8557605b1989466db21fc7c525a3b477",
        "IPY_MODEL_f6431ad22571491b9fe1709e97999b80",
        "IPY_MODEL_e3924e2625074075805e065f03dcaaad"
       ],
       "layout": "IPY_MODEL_bead954e1bb14f38977ba6e24b11a2d9"
      }
     },
     "9d7afbfb3afa4df89cc8c985a39d9ddb": {
      "model_module": "@jupyter-widgets/controls",
      "model_module_version": "2.0.0",
      "model_name": "HTMLStyleModel",
      "state": {
       "description_width": "",
       "font_size": null,
       "text_color": null
      }
     },
     "9f12a8dd1b6043479f84f209b4c4d49a": {
      "model_module": "@jupyter-widgets/controls",
      "model_module_version": "2.0.0",
      "model_name": "ButtonModel",
      "state": {
       "icon": "close",
       "layout": "IPY_MODEL_c3b831c102754a79b130dd4c969e91a9",
       "style": "IPY_MODEL_ac081cad9c22436abadb18f18f4d5cf9",
       "tooltip": null
      }
     },
     "a07f8eb321ae40809050737e2887f165": {
      "model_module": "@jupyter-widgets/base",
      "model_module_version": "2.0.0",
      "model_name": "LayoutModel",
      "state": {
       "grid_area": "right",
       "padding": "0px 0px 0px 0px",
       "width": "70px"
      }
     },
     "a09e98ba066e4159924a63049b446620": {
      "model_module": "@jupyter-widgets/base",
      "model_module_version": "2.0.0",
      "model_name": "LayoutModel",
      "state": {
       "width": "190px"
      }
     },
     "a4bfb443ce1e4a5d9c86d14a59a520d3": {
      "model_module": "@jupyter-widgets/controls",
      "model_module_version": "2.0.0",
      "model_name": "HTMLModel",
      "state": {
       "layout": "IPY_MODEL_243a05e09aa54c02b9cc750c448de4a5",
       "style": "IPY_MODEL_81633c3e00894be3a008c89e4542ce35",
       "value": "ckkhp2cmjg3o1418d9g0"
      }
     },
     "a66f82ed4f5a487da6bb9a00336bd4c8": {
      "model_module": "@jupyter-widgets/controls",
      "model_module_version": "2.0.0",
      "model_name": "HTMLModel",
      "state": {
       "layout": "IPY_MODEL_e0cab08d5c634df89dc3cb30f056c041",
       "style": "IPY_MODEL_4ccf3f077a90411888089421d7f9f354",
       "value": "<h5>Job ID</h5>"
      }
     },
     "a7c1367eb0a34b1f86d208b432d85c4f": {
      "model_module": "@jupyter-widgets/controls",
      "model_module_version": "2.0.0",
      "model_name": "HTMLModel",
      "state": {
       "layout": "IPY_MODEL_a09e98ba066e4159924a63049b446620",
       "style": "IPY_MODEL_041559a3d382474886725fad546e78a0",
       "value": "ckki1i41recafbc00jig"
      }
     },
     "a933179a3aad4a0bbe6fee425a3fd671": {
      "model_module": "@jupyter-widgets/controls",
      "model_module_version": "2.0.0",
      "model_name": "HTMLStyleModel",
      "state": {
       "description_width": "",
       "font_size": null,
       "text_color": null
      }
     },
     "aa77b79c293a455da88d3bdc3292897f": {
      "model_module": "@jupyter-widgets/controls",
      "model_module_version": "2.0.0",
      "model_name": "HTMLStyleModel",
      "state": {
       "description_width": "",
       "font_size": null,
       "text_color": null
      }
     },
     "aaca99b3da5445ca9db6753aa87632c3": {
      "model_module": "@jupyter-widgets/controls",
      "model_module_version": "2.0.0",
      "model_name": "HBoxModel",
      "state": {
       "children": [
        "IPY_MODEL_441ecf5bae6f4967bd351630a25167bd",
        "IPY_MODEL_bbd6fae88c3244e68b19703023e2f31c",
        "IPY_MODEL_425f86891be44c858a88293a05c86f95",
        "IPY_MODEL_1618052dd55a41c5a402081f3100f6ed",
        "IPY_MODEL_fb335cf1c97446c09cf984c3005ad36b",
        "IPY_MODEL_91a929e757ba4fab9b96f54db25208e8"
       ],
       "layout": "IPY_MODEL_d816761f3676436583236254c4418951"
      }
     },
     "ac081cad9c22436abadb18f18f4d5cf9": {
      "model_module": "@jupyter-widgets/controls",
      "model_module_version": "2.0.0",
      "model_name": "ButtonStyleModel",
      "state": {
       "button_color": "white",
       "font_family": null,
       "font_size": null,
       "font_style": null,
       "font_variant": null,
       "font_weight": null,
       "text_color": null,
       "text_decoration": null
      }
     },
     "acfa226b6fbf41e7895ad4741277b5c2": {
      "model_module": "@jupyter-widgets/controls",
      "model_module_version": "2.0.0",
      "model_name": "HTMLStyleModel",
      "state": {
       "description_width": "",
       "font_size": null,
       "text_color": null
      }
     },
     "ae098d2139cc4e428d2589adb520af5a": {
      "model_module": "@jupyter-widgets/controls",
      "model_module_version": "2.0.0",
      "model_name": "HBoxModel",
      "state": {
       "children": [
        "IPY_MODEL_89a4bc54aeff4b1a816032fb7965a328",
        "IPY_MODEL_3924002b2af1409e8086eb52be96353b",
        "IPY_MODEL_52a3c6c2dbbf47cbabfe541a66f2de40",
        "IPY_MODEL_31bcf05354574a5b845511002b1c45b4",
        "IPY_MODEL_e596c1b0fc5d4b5e90fe0fa8f00eb9b1",
        "IPY_MODEL_952463e9c83e4c5b972572fce7f25aef"
       ],
       "layout": "IPY_MODEL_c501e2c8781d4e8ab32582bb5697118f"
      }
     },
     "b157a92fc9b34a42b49e3531399d0b4c": {
      "model_module": "@jupyter-widgets/base",
      "model_module_version": "2.0.0",
      "model_name": "LayoutModel",
      "state": {}
     },
     "b269e0c000594f2595246596f9f5791a": {
      "model_module": "@jupyter-widgets/controls",
      "model_module_version": "2.0.0",
      "model_name": "ButtonModel",
      "state": {
       "icon": "close",
       "layout": "IPY_MODEL_b9ad3c3eb5694bdb9c1345d4b50905e3",
       "style": "IPY_MODEL_98b1af4d3db64e6d8bfc8d1ed9152a2d",
       "tooltip": null
      }
     },
     "b2c0122963aa4998acb75db650619f0d": {
      "model_module": "@jupyter-widgets/base",
      "model_module_version": "2.0.0",
      "model_name": "LayoutModel",
      "state": {
       "width": "145px"
      }
     },
     "b8729a19649c4436ac0997faf652a15d": {
      "model_module": "@jupyter-widgets/controls",
      "model_module_version": "2.0.0",
      "model_name": "HTMLModel",
      "state": {
       "layout": "IPY_MODEL_0c961a1b502c481cbd921f92b398215b",
       "style": "IPY_MODEL_f55ef637a7134108b330116054957ae5",
       "value": "ibmq_qasm_simulator"
      }
     },
     "b89c1c3ec9204df1b4b082380997a7ff": {
      "model_module": "@jupyter-widgets/controls",
      "model_module_version": "2.0.0",
      "model_name": "ButtonStyleModel",
      "state": {
       "button_color": "white",
       "font_family": null,
       "font_size": null,
       "font_style": null,
       "font_variant": null,
       "font_weight": null,
       "text_color": null,
       "text_decoration": null
      }
     },
     "b913e5b92f4c4c1fba53009a63b512a8": {
      "model_module": "@jupyter-widgets/base",
      "model_module_version": "2.0.0",
      "model_name": "LayoutModel",
      "state": {
       "width": "95px"
      }
     },
     "b9ad3c3eb5694bdb9c1345d4b50905e3": {
      "model_module": "@jupyter-widgets/base",
      "model_module_version": "2.0.0",
      "model_name": "LayoutModel",
      "state": {
       "margin": "0px 5px 0px 0px",
       "width": "32px"
      }
     },
     "bb377584897f490cbb0fd9f47bcf9ab8": {
      "model_module": "@jupyter-widgets/controls",
      "model_module_version": "2.0.0",
      "model_name": "HTMLStyleModel",
      "state": {
       "description_width": "",
       "font_size": null,
       "text_color": null
      }
     },
     "bbd6fae88c3244e68b19703023e2f31c": {
      "model_module": "@jupyter-widgets/controls",
      "model_module_version": "2.0.0",
      "model_name": "HTMLModel",
      "state": {
       "layout": "IPY_MODEL_23296c89c6784d3bbdbe26e331f1e5ef",
       "style": "IPY_MODEL_3a9504ebc62241388dfff94602321092",
       "value": "ckkhsr2een13a803trf0"
      }
     },
     "bc149528472542aea93a289f23dbbc33": {
      "model_module": "@jupyter-widgets/base",
      "model_module_version": "2.0.0",
      "model_name": "LayoutModel",
      "state": {
       "margin": "0px 0px 0px 37px",
       "width": "600px"
      }
     },
     "bda05dc2a96a42bcb4aeb6841f5e3d9b": {
      "model_module": "@jupyter-widgets/controls",
      "model_module_version": "2.0.0",
      "model_name": "HTMLStyleModel",
      "state": {
       "description_width": "",
       "font_size": null,
       "text_color": null
      }
     },
     "bead954e1bb14f38977ba6e24b11a2d9": {
      "model_module": "@jupyter-widgets/base",
      "model_module_version": "2.0.0",
      "model_name": "LayoutModel",
      "state": {
       "max_width": "700px",
       "min_width": "700px"
      }
     },
     "bfed3e957d794e99b0ad804019f2c431": {
      "model_module": "@jupyter-widgets/base",
      "model_module_version": "2.0.0",
      "model_name": "LayoutModel",
      "state": {
       "width": "95px"
      }
     },
     "c3b831c102754a79b130dd4c969e91a9": {
      "model_module": "@jupyter-widgets/base",
      "model_module_version": "2.0.0",
      "model_name": "LayoutModel",
      "state": {
       "margin": "0px 5px 0px 0px",
       "width": "32px"
      }
     },
     "c501e2c8781d4e8ab32582bb5697118f": {
      "model_module": "@jupyter-widgets/base",
      "model_module_version": "2.0.0",
      "model_name": "LayoutModel",
      "state": {
       "max_width": "700px",
       "min_width": "700px"
      }
     },
     "c77f032bc3804bf781b672318409782f": {
      "model_module": "@jupyter-widgets/controls",
      "model_module_version": "2.0.0",
      "model_name": "HTMLModel",
      "state": {
       "layout": "IPY_MODEL_7117db55718947179002aef3581b73d8",
       "style": "IPY_MODEL_1ecb1bd2306d4420ad49ac50b4d6988b",
       "value": "-"
      }
     },
     "d5346fb7abc848a5bee1bd006725e49d": {
      "model_module": "@jupyter-widgets/controls",
      "model_module_version": "2.0.0",
      "model_name": "HTMLStyleModel",
      "state": {
       "description_width": "",
       "font_size": null,
       "text_color": null
      }
     },
     "d5fc81525c694c66b4259cfaf66e5deb": {
      "model_module": "@jupyter-widgets/base",
      "model_module_version": "2.0.0",
      "model_name": "LayoutModel",
      "state": {
       "margin": "0px 5px 0px 0px",
       "width": "32px"
      }
     },
     "d816761f3676436583236254c4418951": {
      "model_module": "@jupyter-widgets/base",
      "model_module_version": "2.0.0",
      "model_name": "LayoutModel",
      "state": {
       "max_width": "700px",
       "min_width": "700px"
      }
     },
     "d9071457124f44c8a780fa39625bd4b9": {
      "model_module": "@jupyter-widgets/controls",
      "model_module_version": "2.0.0",
      "model_name": "HTMLModel",
      "state": {
       "layout": "IPY_MODEL_4ab694e50282454187e7e1c927e432c2",
       "style": "IPY_MODEL_ef9aae2079704c999d8e31d02c9eb7af",
       "value": "<h5>Queue</h5>"
      }
     },
     "da58ed6799204074884e9f1ac9f5bd27": {
      "model_module": "@jupyter-widgets/controls",
      "model_module_version": "2.0.0",
      "model_name": "HTMLModel",
      "state": {
       "layout": "IPY_MODEL_8ee747280b8f4054aa7d644075ca1436",
       "style": "IPY_MODEL_dfde9976c08b4762b539d44b92faee80",
       "value": "ckki1kaeen13a803vtj0"
      }
     },
     "dc342a5976444b3ea8a3143054f4b9b2": {
      "model_module": "@jupyter-widgets/controls",
      "model_module_version": "2.0.0",
      "model_name": "HBoxModel",
      "state": {
       "children": [
        "IPY_MODEL_9f12a8dd1b6043479f84f209b4c4d49a",
        "IPY_MODEL_a4bfb443ce1e4a5d9c86d14a59a520d3",
        "IPY_MODEL_49bcdae2f9ad4fdba7d6f908d31a58a8",
        "IPY_MODEL_45279f4c16844407843fbf603e2fa3d8",
        "IPY_MODEL_de5ce55f0a5f493d94b7e64bd0b552d0",
        "IPY_MODEL_96c478b2ee9b4af2a9a54691bac637f9"
       ],
       "layout": "IPY_MODEL_66c8920d38ab40c091442540a5981f66"
      }
     },
     "dd50ca90dbd04a30b910887d21e04a48": {
      "model_module": "@jupyter-widgets/controls",
      "model_module_version": "2.0.0",
      "model_name": "HTMLModel",
      "state": {
       "layout": "IPY_MODEL_315f3f291a0e42ab9060a4fd38bfbb4b",
       "style": "IPY_MODEL_f4aebaf86b0541f2bc1cb2f98dee8c89",
       "value": "-"
      }
     },
     "ddaa15d08e5946259773ffb62bd847fe": {
      "model_module": "@jupyter-widgets/base",
      "model_module_version": "2.0.0",
      "model_name": "LayoutModel",
      "state": {
       "width": "145px"
      }
     },
     "de5ce55f0a5f493d94b7e64bd0b552d0": {
      "model_module": "@jupyter-widgets/controls",
      "model_module_version": "2.0.0",
      "model_name": "HTMLModel",
      "state": {
       "layout": "IPY_MODEL_2d0139e5bb5c427894ede339812b1136",
       "style": "IPY_MODEL_3ce453edd7fa482aa6419238c8efbf86",
       "value": "-"
      }
     },
     "dfde9976c08b4762b539d44b92faee80": {
      "model_module": "@jupyter-widgets/controls",
      "model_module_version": "2.0.0",
      "model_name": "HTMLStyleModel",
      "state": {
       "description_width": "",
       "font_size": null,
       "text_color": null
      }
     },
     "e0cab08d5c634df89dc3cb30f056c041": {
      "model_module": "@jupyter-widgets/base",
      "model_module_version": "2.0.0",
      "model_name": "LayoutModel",
      "state": {
       "width": "190px"
      }
     },
     "e1238bcc2b7a41fdb6d786be9e33b7c9": {
      "model_module": "@jupyter-widgets/base",
      "model_module_version": "2.0.0",
      "model_name": "LayoutModel",
      "state": {
       "max_width": "700px",
       "min_width": "700px"
      }
     },
     "e37fea6e56774c20a3913374f63c6abd": {
      "model_module": "@jupyter-widgets/base",
      "model_module_version": "2.0.0",
      "model_name": "LayoutModel",
      "state": {
       "width": "190px"
      }
     },
     "e3924e2625074075805e065f03dcaaad": {
      "model_module": "@jupyter-widgets/controls",
      "model_module_version": "2.0.0",
      "model_name": "HTMLModel",
      "state": {
       "layout": "IPY_MODEL_153b9e47a9f948b58d003e0dd4d34991",
       "style": "IPY_MODEL_946e0c39c12e4f49ab55e7cbc789f89b",
       "value": "<p style=white-space:nowrap;>job has successfully run</p>"
      }
     },
     "e4a4cb9974a94b71acbe26ec0ac4c53e": {
      "model_module": "@jupyter-widgets/controls",
      "model_module_version": "2.0.0",
      "model_name": "ButtonModel",
      "state": {
       "button_style": "primary",
       "description": "Clear",
       "layout": "IPY_MODEL_a07f8eb321ae40809050737e2887f165",
       "style": "IPY_MODEL_0838b0d4e7ad45d78427702335da6e58",
       "tooltip": null
      }
     },
     "e4c1e3d745ad4256b0d309e19e073756": {
      "model_module": "@jupyter-widgets/controls",
      "model_module_version": "2.0.0",
      "model_name": "ButtonStyleModel",
      "state": {
       "button_color": "white",
       "font_family": null,
       "font_size": null,
       "font_style": null,
       "font_variant": null,
       "font_weight": null,
       "text_color": null,
       "text_decoration": null
      }
     },
     "e596c1b0fc5d4b5e90fe0fa8f00eb9b1": {
      "model_module": "@jupyter-widgets/controls",
      "model_module_version": "2.0.0",
      "model_name": "HTMLModel",
      "state": {
       "layout": "IPY_MODEL_5e239ed74f0e450cacb36136b0e5e8f6",
       "style": "IPY_MODEL_168c9ba759504310a34cd9a75bf7b505",
       "value": "-"
      }
     },
     "e61a11290c4449e699e5b65d288285e3": {
      "model_module": "@jupyter-widgets/controls",
      "model_module_version": "2.0.0",
      "model_name": "HTMLStyleModel",
      "state": {
       "description_width": "",
       "font_size": null,
       "text_color": null
      }
     },
     "e71e1bdee7de4fd0bb334b4149455d8c": {
      "model_module": "@jupyter-widgets/base",
      "model_module_version": "2.0.0",
      "model_name": "LayoutModel",
      "state": {
       "margin": "0px 5px 0px 0px",
       "width": "32px"
      }
     },
     "e935e5cd505b4aecb26b8166d38a0c9a": {
      "model_module": "@jupyter-widgets/controls",
      "model_module_version": "2.0.0",
      "model_name": "HTMLStyleModel",
      "state": {
       "description_width": "",
       "font_size": null,
       "text_color": null
      }
     },
     "e966231061204a1e873cc1b39faccda0": {
      "model_module": "@jupyter-widgets/controls",
      "model_module_version": "2.0.0",
      "model_name": "HTMLModel",
      "state": {
       "layout": "IPY_MODEL_21dd150a069d4d368aa1030cdf7781ac",
       "style": "IPY_MODEL_a933179a3aad4a0bbe6fee425a3fd671",
       "value": "<font style='color:#34BC6E'>DONE</font>"
      }
     },
     "ea5d7cec809642d7bdb11c64b3e225a6": {
      "model_module": "@jupyter-widgets/base",
      "model_module_version": "2.0.0",
      "model_name": "LayoutModel",
      "state": {
       "width": "95px"
      }
     },
     "eb72f61b1a9a4b45828dfd8c311af218": {
      "model_module": "@jupyter-widgets/base",
      "model_module_version": "2.0.0",
      "model_name": "LayoutModel",
      "state": {
       "margin": "0px 5px 0px 0px",
       "width": "32px"
      }
     },
     "ee905e78ebd94e5bab4b16ba804265bc": {
      "model_module": "@jupyter-widgets/base",
      "model_module_version": "2.0.0",
      "model_name": "LayoutModel",
      "state": {}
     },
     "ef53b0c15cf041eb8525a4a50160133c": {
      "model_module": "@jupyter-widgets/base",
      "model_module_version": "2.0.0",
      "model_name": "LayoutModel",
      "state": {
       "width": "145px"
      }
     },
     "ef9aae2079704c999d8e31d02c9eb7af": {
      "model_module": "@jupyter-widgets/controls",
      "model_module_version": "2.0.0",
      "model_name": "HTMLStyleModel",
      "state": {
       "description_width": "",
       "font_size": null,
       "text_color": null
      }
     },
     "f4aebaf86b0541f2bc1cb2f98dee8c89": {
      "model_module": "@jupyter-widgets/controls",
      "model_module_version": "2.0.0",
      "model_name": "HTMLStyleModel",
      "state": {
       "description_width": "",
       "font_size": null,
       "text_color": null
      }
     },
     "f55ef637a7134108b330116054957ae5": {
      "model_module": "@jupyter-widgets/controls",
      "model_module_version": "2.0.0",
      "model_name": "HTMLStyleModel",
      "state": {
       "description_width": "",
       "font_size": null,
       "text_color": null
      }
     },
     "f6431ad22571491b9fe1709e97999b80": {
      "model_module": "@jupyter-widgets/controls",
      "model_module_version": "2.0.0",
      "model_name": "HTMLModel",
      "state": {
       "layout": "IPY_MODEL_32a804cce4294e749c209344e424c79b",
       "style": "IPY_MODEL_3bd43808421e4cb5b77a81adca509ffd",
       "value": "-"
      }
     },
     "fb335cf1c97446c09cf984c3005ad36b": {
      "model_module": "@jupyter-widgets/controls",
      "model_module_version": "2.0.0",
      "model_name": "HTMLModel",
      "state": {
       "layout": "IPY_MODEL_54ac2be18da845f49c1024e786ead8cf",
       "style": "IPY_MODEL_acfa226b6fbf41e7895ad4741277b5c2",
       "value": "-"
      }
     },
     "ff6390d913114c618deafce10ee22d4c": {
      "model_module": "@jupyter-widgets/base",
      "model_module_version": "2.0.0",
      "model_name": "LayoutModel",
      "state": {
       "width": "95px"
      }
     }
    },
    "version_major": 2,
    "version_minor": 0
   }
  }
 },
 "nbformat": 4,
 "nbformat_minor": 5
}
