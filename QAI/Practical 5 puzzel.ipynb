{
 "cells": [
  {
   "cell_type": "markdown",
   "id": "4566572e-3853-43d5-900d-2b5fa7a0b278",
   "metadata": {},
   "source": [
    "Title : Coin Flipping  instead of 3 puzzle problem"
   ]
  },
  {
   "cell_type": "code",
   "execution_count": 16,
   "id": "1ed4aae9-2641-4e26-b448-aadfdc72ce07",
   "metadata": {
    "tags": []
   },
   "outputs": [
    {
     "name": "stdout",
     "output_type": "stream",
     "text": [
      "Requirement already satisfied: qiskit in /opt/conda/lib/python3.10/site-packages (0.44.2)\n",
      "Requirement already satisfied: qiskit-terra==0.25.2.1 in /opt/conda/lib/python3.10/site-packages (from qiskit) (0.25.2.1)\n",
      "Requirement already satisfied: python-dateutil>=2.8.0 in /opt/conda/lib/python3.10/site-packages (from qiskit-terra==0.25.2.1->qiskit) (2.8.2)\n",
      "Requirement already satisfied: scipy>=1.5 in /opt/conda/lib/python3.10/site-packages (from qiskit-terra==0.25.2.1->qiskit) (1.9.3)\n",
      "Requirement already satisfied: numpy>=1.17 in /opt/conda/lib/python3.10/site-packages (from qiskit-terra==0.25.2.1->qiskit) (1.23.5)\n",
      "Requirement already satisfied: typing-extensions in /opt/conda/lib/python3.10/site-packages (from qiskit-terra==0.25.2.1->qiskit) (4.5.0)\n",
      "Requirement already satisfied: ply>=3.10 in /opt/conda/lib/python3.10/site-packages (from qiskit-terra==0.25.2.1->qiskit) (3.11)\n",
      "Requirement already satisfied: psutil>=5 in /opt/conda/lib/python3.10/site-packages (from qiskit-terra==0.25.2.1->qiskit) (5.9.4)\n",
      "Requirement already satisfied: dill>=0.3 in /opt/conda/lib/python3.10/site-packages (from qiskit-terra==0.25.2.1->qiskit) (0.3.7)\n",
      "Requirement already satisfied: symengine<0.10,>=0.9 in /opt/conda/lib/python3.10/site-packages (from qiskit-terra==0.25.2.1->qiskit) (0.9.2)\n",
      "Requirement already satisfied: stevedore>=3.0.0 in /opt/conda/lib/python3.10/site-packages (from qiskit-terra==0.25.2.1->qiskit) (4.1.1)\n",
      "Requirement already satisfied: sympy>=1.3 in /opt/conda/lib/python3.10/site-packages (from qiskit-terra==0.25.2.1->qiskit) (1.11.1)\n",
      "Requirement already satisfied: rustworkx>=0.13.0 in /opt/conda/lib/python3.10/site-packages (from qiskit-terra==0.25.2.1->qiskit) (0.13.0)\n",
      "Requirement already satisfied: six>=1.5 in /opt/conda/lib/python3.10/site-packages (from python-dateutil>=2.8.0->qiskit-terra==0.25.2.1->qiskit) (1.16.0)\n",
      "Requirement already satisfied: pbr!=2.1.0,>=2.0.0 in /opt/conda/lib/python3.10/site-packages (from stevedore>=3.0.0->qiskit-terra==0.25.2.1->qiskit) (5.11.1)\n",
      "Requirement already satisfied: mpmath>=0.19 in /opt/conda/lib/python3.10/site-packages (from sympy>=1.3->qiskit-terra==0.25.2.1->qiskit) (1.3.0)\n",
      "\n",
      "\u001b[1m[\u001b[0m\u001b[34;49mnotice\u001b[0m\u001b[1;39;49m]\u001b[0m\u001b[39;49m A new release of pip available: \u001b[0m\u001b[31;49m23.1.1\u001b[0m\u001b[39;49m -> \u001b[0m\u001b[32;49m23.2.1\u001b[0m\n",
      "\u001b[1m[\u001b[0m\u001b[34;49mnotice\u001b[0m\u001b[1;39;49m]\u001b[0m\u001b[39;49m To update, run: \u001b[0m\u001b[32;49mpip install --upgrade pip\u001b[0m\n"
     ]
    }
   ],
   "source": [
    "!pip install --upgrade qiskit"
   ]
  },
  {
   "cell_type": "code",
   "execution_count": null,
   "id": "75d3d9f7-455d-42a5-9b7e-e4960d870344",
   "metadata": {
    "tags": []
   },
   "outputs": [],
   "source": [
    "from qiskit import Aer, transpile, assemble, QuantumCircuit\n",
    "from qiskit.aqua import QuantumInstance\n",
    "from qiskit.aqua.algorithms import QAOA\n",
    "from qiskit.aqua.components.optimizers import COBYLA\n",
    "\n",
    "# Define the objective function\n",
    "def objective_function(x):\n",
    "    cost = 0\n",
    "    state = [[1, 2, 3], [4, 5, 6], [7, 8, None]]\n",
    "\n",
    "    for i in range(3):\n",
    "        for j in range(3):\n",
    "            if state[i][j] is not None and state[i][j] != x[i][j]:\n",
    "                cost += 1\n",
    "\n",
    "    return cost\n",
    "\n",
    "# Define the QAOA solver\n",
    "def solve_3puzzle_qaoa():\n",
    "    backend = Aer.get_backend('qasm_simulator')\n",
    "    optimizer = COBYLA(maxiter=100)\n",
    "    qaoa = QAOA(optimizer=optimizer, p=1, quantum_instance=QuantumInstance(backend=backend))\n",
    "\n",
    "    # Generate the initial state circuit\n",
    "    initial_state = QuantumCircuit(9)\n",
    "    for i in range(3):\n",
    "        for j in range(3):\n",
    "            initial_state.h(i * 3 + j)\n",
    "    initial_state.barrier()\n",
    "\n",
    "    # Generate the mixer circuit\n",
    "    mixer = QuantumCircuit(9)\n",
    "    mixer.cz(0, 1)\n",
    "    mixer.cz(0, 3)\n",
    "    mixer.cz(1, 2)\n",
    "    mixer.cz(1, 4)\n",
    "    mixer.cz(2, 5)\n",
    "    mixer.cz(3, 4)\n",
    "    mixer.cz(3, 6)\n",
    "    mixer.cz(4, 5)\n",
    "    mixer.cz(4, 7)\n",
    "    mixer.cz(5, 8)\n",
    "    mixer.cz(6, 7)\n",
    "    mixer.cz(7, 8)\n",
    "\n",
    "    # Solve the problem using QAOA\n",
    "    qaoa.initial_state = initial_state\n",
    "    qaoa.mixer = mixer\n",
    "    qaoa.objective_function = objective_function\n",
    "\n",
    "    result = qaoa.compute_minimum_eigenvalue()\n",
    "    solution = result.x\n",
    "\n",
    "    return solution\n",
    "\n",
    "# Solve the 3-puzzle problem using QAOA\n",
    "solution = solve_3puzzle_qaoa()\n",
    "\n",
    "# Print the solution\n",
    "print(\"Solution found!\")\n",
    "for i in range(0, 9, 3):\n",
    "    print(solution[i:i + 3])\n"
   ]
  },
  {
   "cell_type": "code",
   "execution_count": 1,
   "id": "2e6d6df3-b133-40b1-b2d7-0949cd64647b",
   "metadata": {
    "tags": []
   },
   "outputs": [
    {
     "name": "stdout",
     "output_type": "stream",
     "text": [
      "Solution found!\n",
      "000\n",
      "000\n",
      "000\n"
     ]
    }
   ],
   "source": [
    "from qiskit import QuantumCircuit, Aer, execute\n",
    "from qiskit.visualization import plot_histogram\n",
    "\n",
    "# Define the initial state\n",
    "initial_state = [2, 5, 3, 1, 8, 6, 4, 7, None]\n",
    "\n",
    "# Define the goal state\n",
    "goal_state = [1, 2, 3, 4, 5, 6, 7, 8, None]\n",
    "\n",
    "# Define the quantum circuit\n",
    "qc = QuantumCircuit(18, 18)\n",
    "\n",
    "# Initialize the circuit with the initial state\n",
    "for i, tile in enumerate(initial_state):\n",
    "    if tile is not None:\n",
    "        qc.x(i)\n",
    "\n",
    "# Perform swaps to reach the goal state\n",
    "for i, tile in enumerate(goal_state):\n",
    "    if tile is not None:\n",
    "        initial_index = initial_state.index(tile)\n",
    "        target_index = goal_state.index(tile)\n",
    "        qc.swap(i, initial_index + 9)\n",
    "        qc.swap(i, target_index + 9)\n",
    "\n",
    "# Measure the final state\n",
    "qc.measure(range(9), range(9))\n",
    "\n",
    "# Simulate the circuit\n",
    "backend = Aer.get_backend('qasm_simulator')\n",
    "job = execute(qc, backend, shots=1024)\n",
    "result = job.result()\n",
    "counts = result.get_counts(qc)\n",
    "\n",
    "# Find the most probable state (solution)\n",
    "max_count = max(counts.values())\n",
    "solution = [state for state, count in counts.items() if count == max_count][0]\n",
    "\n",
    "# Print the solution\n",
    "print(\"Solution found!\")\n",
    "for i in range(0, 9, 3):\n",
    "    print(solution[i:i + 3])\n"
   ]
  },
  {
   "cell_type": "code",
   "execution_count": 2,
   "id": "f4901684-4a92-4e73-a7a1-4cbe4f727ff8",
   "metadata": {
    "tags": []
   },
   "outputs": [
    {
     "name": "stdout",
     "output_type": "stream",
     "text": [
      "Coin Flip Results:\n",
      "1: 540 (54.00%)\n",
      "0: 460 (46.00%)\n"
     ]
    }
   ],
   "source": [
    "from qiskit import Aer, execute, QuantumCircuit\n",
    "\n",
    "# Define the quantum circuit\n",
    "qc = QuantumCircuit(1, 1)\n",
    "qc.h(0)  # Apply Hadamard gate for superposition\n",
    "qc.measure(0, 0)  # Measure qubit and store result in classical bit\n",
    "\n",
    "# Use the Aer simulator\n",
    "simulator = Aer.get_backend('qasm_simulator')\n",
    "\n",
    "# Set the number of shots (measurements)\n",
    "num_shots = 1000\n",
    "\n",
    "# Execute the quantum circuit on the simulator with multiple shots\n",
    "job = execute(qc, simulator, shots=num_shots)\n",
    "\n",
    "# Get the result of the measurements\n",
    "result = job.result()\n",
    "counts = result.get_counts()\n",
    "\n",
    "# Print the coin flip results\n",
    "print(\"Coin Flip Results:\")\n",
    "for outcome, count in counts.items():\n",
    "    print(f\"{outcome}: {count} ({count/num_shots*100:.2f}%)\")\n"
   ]
  },
  {
   "cell_type": "code",
   "execution_count": 3,
   "id": "24aa6043-4065-4079-bdf4-d23329117988",
   "metadata": {
    "tags": []
   },
   "outputs": [
    {
     "name": "stdout",
     "output_type": "stream",
     "text": [
      "Coin Flip Results:\n",
      "0: 488 (48.80%)\n",
      "1: 512 (51.20%)\n"
     ]
    }
   ],
   "source": [
    "from qiskit import Aer, execute, QuantumCircuit\n",
    "\n",
    "# Define the quantum circuit\n",
    "qc = QuantumCircuit(1, 1)\n",
    "qc.h(0)  # Apply Hadamard gate for superposition\n",
    "qc.measure(0, 0)  # Measure qubit and store result in classical bit\n",
    "\n",
    "# Use the Aer simulator\n",
    "simulator = Aer.get_backend('qasm_simulator')\n",
    "\n",
    "# Set the number of shots (measurements)\n",
    "num_shots = 1000\n",
    "\n",
    "# Execute the quantum circuit on the simulator with multiple shots\n",
    "job = execute(qc, simulator, shots=num_shots)\n",
    "\n",
    "# Get the result of the measurements\n",
    "result = job.result()\n",
    "counts = result.get_counts()\n",
    "\n",
    "# Print the coin flip results\n",
    "print(\"Coin Flip Results:\")\n",
    "for outcome, count in counts.items():\n",
    "    print(f\"{outcome}: {count} ({count/num_shots*100:.2f}%)\")\n"
   ]
  },
  {
   "cell_type": "code",
   "execution_count": 4,
   "id": "3a6d5bf5-4804-4486-948f-c883be432a17",
   "metadata": {
    "tags": []
   },
   "outputs": [
    {
     "data": {
      "image/png": "[encoded data removed]",
      "text/plain": [
       "<Figure size 640x480 with 1 Axes>"
      ]
     },
     "metadata": {},
     "output_type": "display_data"
    }
   ],
   "source": [
    "import matplotlib.pyplot as plt\n",
    "from qiskit import Aer, execute, QuantumCircuit\n",
    "\n",
    "# Define the quantum circuit\n",
    "qc = QuantumCircuit(1, 1)\n",
    "qc.h(0)  # Apply Hadamard gate for superposition\n",
    "qc.measure(0, 0)  # Measure qubit and store result in classical bit\n",
    "\n",
    "# Use the Aer simulator\n",
    "simulator = Aer.get_backend('qasm_simulator')\n",
    "\n",
    "# Set the number of shots (measurements)\n",
    "num_shots = 1000\n",
    "\n",
    "# Execute the quantum circuit on the simulator with multiple shots\n",
    "job = execute(qc, simulator, shots=num_shots)\n",
    "\n",
    "# Get the result of the measurements\n",
    "result = job.result()\n",
    "counts = result.get_counts()\n",
    "\n",
    "# Plot the coin flip results\n",
    "outcomes = list(counts.keys())\n",
    "counts_list = list(counts.values())\n",
    "\n",
    "plt.bar(outcomes, counts_list)\n",
    "plt.xlabel('Outcome')\n",
    "plt.ylabel('Counts')\n",
    "plt.title('Coin Flip Results')\n",
    "plt.show()\n"
   ]
  },
  {
   "cell_type": "code",
   "execution_count": null,
   "id": "f33e2abe-5256-4928-a056-8b024d6417e7",
   "metadata": {},
   "outputs": [],
   "source": []
  }
 ],
 "metadata": {
  "kernelspec": {
   "display_name": "Python 3 (ipykernel)",
   "language": "python",
   "name": "python3"
  },
  "language_info": {
   "codemirror_mode": {
    "name": "ipython",
    "version": 3
   },
   "file_extension": ".py",
   "mimetype": "text/x-python",
   "name": "python",
   "nbconvert_exporter": "python",
   "pygments_lexer": "ipython3",
   "version": "3.10.8"
  },
  "widgets": {
   "application/vnd.jupyter.widget-state+json": {
    "state": {},
    "version_major": 2,
    "version_minor": 0
   }
  }
 },
 "nbformat": 4,
 "nbformat_minor": 5
}
