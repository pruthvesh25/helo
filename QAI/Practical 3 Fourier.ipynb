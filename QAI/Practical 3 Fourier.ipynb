{
 "cells": [
  {
   "cell_type": "markdown",
   "id": "3f3f9706-74e2-413f-b911-941c201461e7",
   "metadata": {},
   "source": [
    "Title : Implementing a 5 qubit Quantum Fourier transform"
   ]
  },
  {
   "cell_type": "code",
   "execution_count": 3,
   "id": "08812787-906f-4928-a2cf-6156f0d7ea49",
   "metadata": {
    "tags": []
   },
   "outputs": [
    {
     "name": "stdout",
     "output_type": "stream",
     "text": [
      "     ┌───┐┌──────┐┌─┐            \n",
      "q_0: ┤ X ├┤0     ├┤M├────────────\n",
      "     └───┘│      │└╥┘┌─┐         \n",
      "q_1: ─────┤1     ├─╫─┤M├─────────\n",
      "     ┌───┐│      │ ║ └╥┘┌─┐      \n",
      "q_2: ┤ X ├┤2 qft ├─╫──╫─┤M├──────\n",
      "     └───┘│      │ ║  ║ └╥┘┌─┐   \n",
      "q_3: ─────┤3     ├─╫──╫──╫─┤M├───\n",
      "     ┌───┐│      │ ║  ║  ║ └╥┘┌─┐\n",
      "q_4: ┤ X ├┤4     ├─╫──╫──╫──╫─┤M├\n",
      "     └───┘└──────┘ ║  ║  ║  ║ └╥┘\n",
      "c: 5/══════════════╩══╩══╩══╩══╩═\n",
      "                   0  1  2  3  4 \n",
      "Job Status: job has successfully run\n",
      "\n",
      " QFT Output\n",
      "-------------\n",
      "{'00110': 26, '00111': 19, '10011': 31, '01000': 30, '10111': 29, '11000': 34, '11011': 29, '00100': 36, '00011': 33, '01111': 37, '11010': 25, '01100': 40, '00010': 28, '11001': 33, '11100': 35, '11110': 29, '11101': 30, '10100': 33, '01101': 32, '00001': 30, '10010': 31, '10110': 33, '11111': 35, '01110': 37, '00101': 25, '01001': 25, '10000': 24, '10101': 33, '00000': 34, '01011': 37, '10001': 38, '01010': 29}\n"
     ]
    },
    {
     "name": "stdin",
     "output_type": "stream",
     "text": [
      " \n"
     ]
    },
    {
     "name": "stdout",
     "output_type": "stream",
     "text": [
      "     ┌───┐┌──────┐┌─┐            \n",
      "q_0: ┤ X ├┤0     ├┤M├────────────\n",
      "     └───┘│      │└╥┘┌─┐         \n",
      "q_1: ─────┤1     ├─╫─┤M├─────────\n",
      "     ┌───┐│      │ ║ └╥┘┌─┐      \n",
      "q_2: ┤ X ├┤2 qft ├─╫──╫─┤M├──────\n",
      "     └───┘│      │ ║  ║ └╥┘┌─┐   \n",
      "q_3: ─────┤3     ├─╫──╫──╫─┤M├───\n",
      "     ┌───┐│      │ ║  ║  ║ └╥┘┌─┐\n",
      "q_4: ┤ X ├┤4     ├─╫──╫──╫──╫─┤M├\n",
      "     └───┘└──────┘ ║  ║  ║  ║ └╥┘\n",
      "c: 5/══════════════╩══╩══╩══╩══╩═\n",
      "                   0  1  2  3  4 \n",
      "Job Status: job has successfully run\n",
      "\n",
      " QFT with inverse QFT Output\n",
      "------------------------------\n",
      "{'11001': 20, '00010': 34, '01110': 22, '10011': 30, '00110': 27, '11110': 29, '11100': 29, '10111': 34, '11000': 29, '00001': 28, '01101': 27, '00011': 32, '00100': 48, '11011': 32, '01000': 27, '10010': 35, '11111': 39, '10110': 29, '01111': 45, '10001': 29, '01010': 32, '10100': 33, '11101': 26, '10000': 36, '10101': 41, '00111': 30, '11010': 30, '01001': 24, '00101': 31, '01100': 34, '00000': 30, '01011': 28}\n"
     ]
    },
    {
     "name": "stdin",
     "output_type": "stream",
     "text": [
      " \n"
     ]
    },
    {
     "data": {
      "text/plain": [
       "''"
      ]
     },
     "execution_count": 3,
     "metadata": {},
     "output_type": "execute_result"
    }
   ],
   "source": [
    "from qiskit import QuantumRegister, ClassicalRegister\n",
    "from qiskit import QuantumCircuit, execute,IBMQ\n",
    "from qiskit.tools.monitor import job_monitor\n",
    "from qiskit.circuit.library import QFT\n",
    "import numpy as np\n",
    "\n",
    "pi = np.pi\n",
    "\n",
    "\n",
    "provider = IBMQ.get_provider(hub='ibm-q')\n",
    "\n",
    "backend = provider.get_backend('ibmq_qasm_simulator')\n",
    "\n",
    "q = QuantumRegister(5,'q')\n",
    "c = ClassicalRegister(5,'c')\n",
    "\n",
    "circuit = QuantumCircuit(q,c)\n",
    "\n",
    "circuit.x(q[4])\n",
    "circuit.x(q[2])\n",
    "circuit.x(q[0])\n",
    "circuit.append(QFT(num_qubits=5, approximation_degree=0, do_swaps=True, inverse=False, insert_barriers=False, name='qft'), q)\n",
    "circuit.measure(q,c)\n",
    "circuit.draw(output='mpl', filename='qft1.png')\n",
    "print(circuit)\n",
    "\n",
    "job = execute(circuit, backend, shots=1000)\n",
    "\n",
    "job_monitor(job)\n",
    "\n",
    "counts = job.result().get_counts()\n",
    "\n",
    "print(\"\\n QFT Output\")\n",
    "print(\"-------------\")\n",
    "print(counts)\n",
    "input()\n",
    "\n",
    "q = QuantumRegister(5,'q')\n",
    "c = ClassicalRegister(5,'c')\n",
    "\n",
    "circuit = QuantumCircuit(q,c)\n",
    "\n",
    "circuit.x(q[4])\n",
    "circuit.x(q[2])\n",
    "circuit.x(q[0])\n",
    "circuit.append(QFT(num_qubits=5, approximation_degree=0, do_swaps=True, inverse=False, insert_barriers=False, name='qft'), q)\n",
    "circuit.measure(q,c)\n",
    "circuit.draw(output='mpl',filename='qft2.png')\n",
    "\n",
    "print(circuit)\n",
    "\n",
    "job = execute(circuit, backend, shots=1000)\n",
    "\n",
    "job_monitor(job)\n",
    "\n",
    "counts = job.result().get_counts()\n",
    "\n",
    "print(\"\\n QFT with inverse QFT Output\")\n",
    "print(\"------------------------------\")\n",
    "print(counts)\n",
    "input()"
   ]
  },
  {
   "cell_type": "code",
   "execution_count": null,
   "id": "9f55d0dc-a291-4b1f-9380-38859b5876ae",
   "metadata": {},
   "outputs": [],
   "source": []
  }
 ],
 "metadata": {
  "kernelspec": {
   "display_name": "Python 3 (ipykernel)",
   "language": "python",
   "name": "python3"
  },
  "language_info": {
   "codemirror_mode": {
    "name": "ipython",
    "version": 3
   },
   "file_extension": ".py",
   "mimetype": "text/x-python",
   "name": "python",
   "nbconvert_exporter": "python",
   "pygments_lexer": "ipython3",
   "version": "3.10.8"
  },
  "widgets": {
   "application/vnd.jupyter.widget-state+json": {
    "state": {},
    "version_major": 2,
    "version_minor": 0
   }
  }
 },
 "nbformat": 4,
 "nbformat_minor": 5
}
