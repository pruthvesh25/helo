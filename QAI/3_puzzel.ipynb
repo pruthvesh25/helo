{
  "cells": [
    {
      "cell_type": "code",
      "execution_count": 2,
      "metadata": {
        "id": "6RrzG9juDBFp"
      },
      "outputs": [],
      "source": [
        "from qiskit import QuantumCircuit, ClassicalRegister, QuantumRegister,transpile\n",
        "from qiskit.circuit.library import GroverOperator\n",
        "from qiskit_aer import AerSimulator"
      ]
    },
    {
      "cell_type": "code",
      "execution_count": 5,
      "metadata": {
        "id": "Nd5UzvUoDIgu"
      },
      "outputs": [],
      "source": [
        "import matplotlib.pyplot as plt\n",
        "import seaborn as sns"
      ]
    },
    {
      "cell_type": "code",
      "execution_count": 6,
      "metadata": {
        "id": "Sq4hCFPKDNr7"
      },
      "outputs": [],
      "source": [
        "def create_3_puzzle_circuit():\n",
        "    \"\"\"Create the quantum circuit for solving the 3-puzzle problem using Grover's algorithm.\"\"\"\n",
        "    # Initialize quantum and classical registers\n",
        "    qr = QuantumRegister(3, 'q')\n",
        "    cr = ClassicalRegister(3, 'c')\n",
        "    qc = QuantumCircuit(qr, cr)\n",
        "\n",
        "    # Initial state |000>\n",
        "    # CNOT gates to exchange positions of qubits\n",
        "    qc.cx(qr[0], qr[1])\n",
        "    qc.cx(qr[1], qr[2])\n",
        "\n",
        "    # Apply Hadamard gates to create superposition\n",
        "    qc.h(qr[0])\n",
        "    qc.h(qr[1])\n",
        "    qc.h(qr[2])\n",
        "\n",
        "    # Placeholder for Grover's algorithm\n",
        "    # This requires defining an oracle and the Grover operator\n",
        "    # Here we use a simple placeholder to illustrate the concept\n",
        "    oracle = QuantumCircuit(3)\n",
        "    oracle.z(0)  # Example oracle condition (adjust based on the puzzle's rules)\n",
        "    oracle_gate = oracle.to_gate(label=\"Oracle\")\n",
        "\n",
        "    # Grover operator\n",
        "    grover_operator = GroverOperator(oracle)\n",
        "    qc.append(grover_operator, qr)\n",
        "\n",
        "    # Measurement\n",
        "    qc.measure(qr, cr)\n",
        "    return qc"
      ]
    },
    {
      "cell_type": "code",
      "execution_count": 7,
      "metadata": {
        "colab": {
          "base_uri": "https://localhost:8080/"
        },
        "id": "4S3685UdDPob",
        "outputId": "d5ec1bf5-317e-4780-9a13-87789a006cc2"
      },
      "outputs": [
        {
          "name": "stdout",
          "output_type": "stream",
          "text": [
            "Measurement results from the 3-puzzle quantum circuit:\n",
            "{'111': 112, '011': 128, '001': 117, '100': 144, '110': 111, '101': 139, '000': 141, '010': 132}\n"
          ]
        }
      ],
      "source": [
        "# Create the 3-puzzle quantum circuit\n",
        "qc = create_3_puzzle_circuit()\n",
        "\n",
        "# Execute the circuit on a quantum simulator\n",
        "simulator = AerSimulator()\n",
        "transpiled_qc = transpile(qc, simulator)\n",
        "\n",
        "job = simulator.run(transpiled_qc, shots=1024)\n",
        "result = job.result()\n",
        "counts = result.get_counts()\n",
        "\n",
        "# Output the result\n",
        "print(\"Measurement results from the 3-puzzle quantum circuit:\")\n",
        "print(counts)"
      ]
    },
    {
      "cell_type": "code",
      "execution_count": 8,
      "metadata": {
        "colab": {
          "base_uri": "https://localhost:8080/",
          "height": 472
        },
        "id": "6xP5fGcWDRh6",
        "outputId": "c807586e-34b0-43ea-921b-5668335050d7"
      },
      "outputs": [
        {
          "data": {
            "image/png": "[encoded data removed]",
            "text/plain": [
              "<Figure size 640x480 with 1 Axes>"
            ]
          },
          "metadata": {},
          "output_type": "display_data"
        }
      ],
      "source": [
        "sns.barplot(x=list(counts.keys()), y=list(counts.values()))\n",
        "plt.xlabel('Measurement Outcomes')\n",
        "plt.ylabel('Counts')\n",
        "plt.title('3-Puzzle Quantum Circuit Measurement Results')\n",
        "plt.show()"
      ]
    },
    {
      "cell_type": "code",
      "execution_count": null,
      "metadata": {},
      "outputs": [],
      "source": []
    },
    {
      "cell_type": "code",
      "execution_count": null,
      "metadata": {},
      "outputs": [],
      "source": []
    }
  ],
  "metadata": {
    "colab": {
      "provenance": []
    },
    "kernelspec": {
      "display_name": "Python 3",
      "name": "python3"
    },
    "language_info": {
      "codemirror_mode": {
        "name": "ipython",
        "version": 3
      },
      "file_extension": ".py",
      "mimetype": "text/x-python",
      "name": "python",
      "nbconvert_exporter": "python",
      "pygments_lexer": "ipython3",
      "version": "3.12.2"
    }
  },
  "nbformat": 4,
  "nbformat_minor": 0
}
